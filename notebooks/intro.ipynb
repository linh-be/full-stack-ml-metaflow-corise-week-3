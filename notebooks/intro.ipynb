{
 "cells": [
  {
   "attachments": {},
   "cell_type": "markdown",
   "metadata": {},
   "source": [
    "# The Compute Layer and Scaling to the Cloud!\n",
    "\n",
    "In this week, you will learn:\n",
    "___\n",
    "- Thinking from data engineering POV: what if we have 100GB of potentially messy data? Questions around ETL and interacting with data warehouses.\n",
    "- How to interact with real-world size datasets in a variety of common formats\n",
    "- Sending particular steps in your ML workflow to the cloud using Metaflow (e.g. large training steps)\n",
    "- Sending entire workflows to the cloud\n",
    "- Issues of dependency management\n",
    "- How to handle failures with Metaflow\n",
    "___"
   ]
  },
  {
   "attachments": {},
   "cell_type": "markdown",
   "metadata": {},
   "source": [
    "## Why the Cloud?\n",
    "\n",
    "If you're asking \"Why should I care about running ML on the cloud?\", that's a great question. One answer is scalability: It’s like a huge massive laptop. And not only that, but infinitely many huge massive laptops at your fingertips!\n",
    "\n",
    "Have you ever had a Pandas dataframe that runs out of memory because maybe you have 16GB on your laptop. Sure, you could restructure your code to do it differently, or use a smaller dataset, but there’s a better way. What if I told you that you could press a button and get more memory installed on your laptop in seconds - that’s essentially what the cloud gives you!\n",
    "\n",
    "On top of this, a cloud-based workstation can pay big dividends when it comes to security, operational concerns, scalability, and interaction with production deployments."
   ]
  }
 ],
 "metadata": {
  "kernelspec": {
   "display_name": "Full Stack ML Corise",
   "language": "python",
   "name": "full-stack-metaflow-corise"
  },
  "language_info": {
   "codemirror_mode": {
    "name": "ipython",
    "version": 3
   },
   "file_extension": ".py",
   "mimetype": "text/x-python",
   "name": "python",
   "nbconvert_exporter": "python",
   "pygments_lexer": "ipython3",
   "version": "3.10.8"
  },
  "orig_nbformat": 4
 },
 "nbformat": 4,
 "nbformat_minor": 2
}
